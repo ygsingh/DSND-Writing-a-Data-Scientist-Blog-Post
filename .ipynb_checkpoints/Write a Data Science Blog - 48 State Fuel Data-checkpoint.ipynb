{
 "cells": [
  {
   "cell_type": "markdown",
   "metadata": {},
   "source": [
    "# Data Preperation for 48 state fuel data\n",
    "\n",
    "I collected all the fuel reciepts on my 48 USA state road trip in Dec 2021. After the trip I created a CSV file with the reciept details. This project is about creating some insights from this data. Since, this data is collected by me and may lack few descriptors, I decided to incorporporate other features from different sources. For example, I can download population and state area data for USA states from the internet. All of these resources are referenced wherever needed.\n"
   ]
  },
  {
   "cell_type": "code",
   "execution_count": 100,
   "metadata": {},
   "outputs": [],
   "source": [
    "# Import libraries \n",
    "\n",
    "import pandas as pd\n",
    "import numpy as np"
   ]
  },
  {
   "cell_type": "markdown",
   "metadata": {},
   "source": [
    "First, lets prepare the fuel data from the collected reciepts.\n",
    "\n",
    "## Data Preperation: Fuel data - Dec, 2021 from my trip\n",
    "\n",
    "### Step 1: Load fuel data \n",
    "\n",
    "Read the data from fuel reciepts file. This file is saved at \"data/fuel_data.csv\""
   ]
  },
  {
   "cell_type": "code",
   "execution_count": 101,
   "metadata": {},
   "outputs": [
    {
     "data": {
      "text/html": [
       "<div>\n",
       "<style scoped>\n",
       "    .dataframe tbody tr th:only-of-type {\n",
       "        vertical-align: middle;\n",
       "    }\n",
       "\n",
       "    .dataframe tbody tr th {\n",
       "        vertical-align: top;\n",
       "    }\n",
       "\n",
       "    .dataframe thead th {\n",
       "        text-align: right;\n",
       "    }\n",
       "</style>\n",
       "<table border=\"1\" class=\"dataframe\">\n",
       "  <thead>\n",
       "    <tr style=\"text-align: right;\">\n",
       "      <th></th>\n",
       "      <th>Date</th>\n",
       "      <th>Time</th>\n",
       "      <th>StateCode</th>\n",
       "      <th>Rate</th>\n",
       "      <th>Quantity</th>\n",
       "      <th>Total</th>\n",
       "      <th>RecieptTotal</th>\n",
       "      <th>GasCompany</th>\n",
       "      <th>CostcoNumber</th>\n",
       "    </tr>\n",
       "  </thead>\n",
       "  <tbody>\n",
       "    <tr>\n",
       "      <th>0</th>\n",
       "      <td>12/13/2021</td>\n",
       "      <td>09:48</td>\n",
       "      <td>MI</td>\n",
       "      <td>2.799</td>\n",
       "      <td>3.424</td>\n",
       "      <td>9.583776</td>\n",
       "      <td>9.58</td>\n",
       "      <td>Costco</td>\n",
       "      <td>393.0</td>\n",
       "    </tr>\n",
       "    <tr>\n",
       "      <th>1</th>\n",
       "      <td>12/13/2021</td>\n",
       "      <td>15:27</td>\n",
       "      <td>IN</td>\n",
       "      <td>2.949</td>\n",
       "      <td>9.362</td>\n",
       "      <td>27.608538</td>\n",
       "      <td>27.61</td>\n",
       "      <td>Costco</td>\n",
       "      <td>370.0</td>\n",
       "    </tr>\n",
       "    <tr>\n",
       "      <th>2</th>\n",
       "      <td>12/14/2021</td>\n",
       "      <td>07:28</td>\n",
       "      <td>WI</td>\n",
       "      <td>2.789</td>\n",
       "      <td>9.895</td>\n",
       "      <td>27.597155</td>\n",
       "      <td>27.60</td>\n",
       "      <td>Costco</td>\n",
       "      <td>1121.0</td>\n",
       "    </tr>\n",
       "    <tr>\n",
       "      <th>3</th>\n",
       "      <td>12/14/2021</td>\n",
       "      <td>15:29</td>\n",
       "      <td>IA</td>\n",
       "      <td>3.070</td>\n",
       "      <td>9.772</td>\n",
       "      <td>30.000040</td>\n",
       "      <td>30.00</td>\n",
       "      <td>Caseys</td>\n",
       "      <td>NaN</td>\n",
       "    </tr>\n",
       "    <tr>\n",
       "      <th>4</th>\n",
       "      <td>12/15/2021</td>\n",
       "      <td>08:43</td>\n",
       "      <td>MN</td>\n",
       "      <td>2.849</td>\n",
       "      <td>8.469</td>\n",
       "      <td>24.128181</td>\n",
       "      <td>24.13</td>\n",
       "      <td>Costco</td>\n",
       "      <td>1344.0</td>\n",
       "    </tr>\n",
       "  </tbody>\n",
       "</table>\n",
       "</div>"
      ],
      "text/plain": [
       "         Date   Time StateCode   Rate  Quantity      Total  RecieptTotal  \\\n",
       "0  12/13/2021  09:48        MI  2.799     3.424   9.583776          9.58   \n",
       "1  12/13/2021  15:27        IN  2.949     9.362  27.608538         27.61   \n",
       "2  12/14/2021  07:28        WI  2.789     9.895  27.597155         27.60   \n",
       "3  12/14/2021  15:29        IA  3.070     9.772  30.000040         30.00   \n",
       "4  12/15/2021  08:43        MN  2.849     8.469  24.128181         24.13   \n",
       "\n",
       "  GasCompany  CostcoNumber  \n",
       "0     Costco         393.0  \n",
       "1     Costco         370.0  \n",
       "2     Costco        1121.0  \n",
       "3     Caseys           NaN  \n",
       "4     Costco        1344.0  "
      ]
     },
     "execution_count": 101,
     "metadata": {},
     "output_type": "execute_result"
    }
   ],
   "source": [
    "df_mydata = pd.read_csv(\"data/fuel_data.csv\")\n",
    "df_mydata.head()"
   ]
  },
  {
   "cell_type": "markdown",
   "metadata": {},
   "source": [
    "### Step 2: Drop columns\n",
    "\n",
    "We will be dropping 'Date', 'Time' and 'CostcoNumber' from the dataframe"
   ]
  },
  {
   "cell_type": "code",
   "execution_count": 102,
   "metadata": {},
   "outputs": [],
   "source": [
    "df_mydata.drop(columns = ['Date', 'Time' , 'CostcoNumber'], inplace=True)"
   ]
  },
  {
   "cell_type": "markdown",
   "metadata": {},
   "source": [
    "### Step 3: Rate correction\n",
    "\n",
    "It is well know that gasoline price at Costco is cheaper compared to other gas companies. Assume costco sells gasoline at a rate $0.30 less than any other gas station, update the rate. [https://www.gobankingrates.com/saving-money/car/why-costco-membership-worth-it-just-for-gas-prices/](https://www.gobankingrates.com/saving-money/car/why-costco-membership-worth-it-just-for-gas-prices/)"
   ]
  },
  {
   "cell_type": "code",
   "execution_count": 103,
   "metadata": {
    "scrolled": true
   },
   "outputs": [
    {
     "data": {
      "text/html": [
       "<div>\n",
       "<style scoped>\n",
       "    .dataframe tbody tr th:only-of-type {\n",
       "        vertical-align: middle;\n",
       "    }\n",
       "\n",
       "    .dataframe tbody tr th {\n",
       "        vertical-align: top;\n",
       "    }\n",
       "\n",
       "    .dataframe thead th {\n",
       "        text-align: right;\n",
       "    }\n",
       "</style>\n",
       "<table border=\"1\" class=\"dataframe\">\n",
       "  <thead>\n",
       "    <tr style=\"text-align: right;\">\n",
       "      <th></th>\n",
       "      <th>StateCode</th>\n",
       "      <th>Rate</th>\n",
       "      <th>Quantity</th>\n",
       "      <th>Total</th>\n",
       "      <th>RecieptTotal</th>\n",
       "      <th>GasCompany</th>\n",
       "    </tr>\n",
       "  </thead>\n",
       "  <tbody>\n",
       "    <tr>\n",
       "      <th>0</th>\n",
       "      <td>MI</td>\n",
       "      <td>3.099</td>\n",
       "      <td>3.424</td>\n",
       "      <td>9.583776</td>\n",
       "      <td>9.58</td>\n",
       "      <td>Costco</td>\n",
       "    </tr>\n",
       "    <tr>\n",
       "      <th>1</th>\n",
       "      <td>IN</td>\n",
       "      <td>3.249</td>\n",
       "      <td>9.362</td>\n",
       "      <td>27.608538</td>\n",
       "      <td>27.61</td>\n",
       "      <td>Costco</td>\n",
       "    </tr>\n",
       "    <tr>\n",
       "      <th>2</th>\n",
       "      <td>WI</td>\n",
       "      <td>3.089</td>\n",
       "      <td>9.895</td>\n",
       "      <td>27.597155</td>\n",
       "      <td>27.60</td>\n",
       "      <td>Costco</td>\n",
       "    </tr>\n",
       "    <tr>\n",
       "      <th>3</th>\n",
       "      <td>IA</td>\n",
       "      <td>3.070</td>\n",
       "      <td>9.772</td>\n",
       "      <td>30.000040</td>\n",
       "      <td>30.00</td>\n",
       "      <td>Caseys</td>\n",
       "    </tr>\n",
       "    <tr>\n",
       "      <th>4</th>\n",
       "      <td>MN</td>\n",
       "      <td>3.149</td>\n",
       "      <td>8.469</td>\n",
       "      <td>24.128181</td>\n",
       "      <td>24.13</td>\n",
       "      <td>Costco</td>\n",
       "    </tr>\n",
       "  </tbody>\n",
       "</table>\n",
       "</div>"
      ],
      "text/plain": [
       "  StateCode   Rate  Quantity      Total  RecieptTotal GasCompany\n",
       "0        MI  3.099     3.424   9.583776          9.58     Costco\n",
       "1        IN  3.249     9.362  27.608538         27.61     Costco\n",
       "2        WI  3.089     9.895  27.597155         27.60     Costco\n",
       "3        IA  3.070     9.772  30.000040         30.00     Caseys\n",
       "4        MN  3.149     8.469  24.128181         24.13     Costco"
      ]
     },
     "execution_count": 103,
     "metadata": {},
     "output_type": "execute_result"
    }
   ],
   "source": [
    "df_mydata['Rate'] = np.where(df_mydata['GasCompany']=='Costco', df_mydata['Rate'] + 0.30, df_mydata['Rate'] )\n",
    "df_mydata.head()"
   ]
  },
  {
   "cell_type": "markdown",
   "metadata": {},
   "source": [
    "### Step 4: Amount correction\n",
    "\n",
    "Update the total amount spend on gas based on corrected Rate in the previous step"
   ]
  },
  {
   "cell_type": "code",
   "execution_count": 104,
   "metadata": {},
   "outputs": [
    {
     "data": {
      "text/html": [
       "<div>\n",
       "<style scoped>\n",
       "    .dataframe tbody tr th:only-of-type {\n",
       "        vertical-align: middle;\n",
       "    }\n",
       "\n",
       "    .dataframe tbody tr th {\n",
       "        vertical-align: top;\n",
       "    }\n",
       "\n",
       "    .dataframe thead th {\n",
       "        text-align: right;\n",
       "    }\n",
       "</style>\n",
       "<table border=\"1\" class=\"dataframe\">\n",
       "  <thead>\n",
       "    <tr style=\"text-align: right;\">\n",
       "      <th></th>\n",
       "      <th>StateCode</th>\n",
       "      <th>Rate</th>\n",
       "      <th>Quantity</th>\n",
       "      <th>Total</th>\n",
       "      <th>RecieptTotal</th>\n",
       "      <th>GasCompany</th>\n",
       "    </tr>\n",
       "  </thead>\n",
       "  <tbody>\n",
       "    <tr>\n",
       "      <th>0</th>\n",
       "      <td>MI</td>\n",
       "      <td>3.099</td>\n",
       "      <td>3.424</td>\n",
       "      <td>10.61</td>\n",
       "      <td>9.58</td>\n",
       "      <td>Costco</td>\n",
       "    </tr>\n",
       "    <tr>\n",
       "      <th>1</th>\n",
       "      <td>IN</td>\n",
       "      <td>3.249</td>\n",
       "      <td>9.362</td>\n",
       "      <td>30.42</td>\n",
       "      <td>27.61</td>\n",
       "      <td>Costco</td>\n",
       "    </tr>\n",
       "    <tr>\n",
       "      <th>2</th>\n",
       "      <td>WI</td>\n",
       "      <td>3.089</td>\n",
       "      <td>9.895</td>\n",
       "      <td>30.57</td>\n",
       "      <td>27.60</td>\n",
       "      <td>Costco</td>\n",
       "    </tr>\n",
       "    <tr>\n",
       "      <th>3</th>\n",
       "      <td>IA</td>\n",
       "      <td>3.070</td>\n",
       "      <td>9.772</td>\n",
       "      <td>30.00</td>\n",
       "      <td>30.00</td>\n",
       "      <td>Caseys</td>\n",
       "    </tr>\n",
       "    <tr>\n",
       "      <th>4</th>\n",
       "      <td>MN</td>\n",
       "      <td>3.149</td>\n",
       "      <td>8.469</td>\n",
       "      <td>26.67</td>\n",
       "      <td>24.13</td>\n",
       "      <td>Costco</td>\n",
       "    </tr>\n",
       "  </tbody>\n",
       "</table>\n",
       "</div>"
      ],
      "text/plain": [
       "  StateCode   Rate  Quantity  Total  RecieptTotal GasCompany\n",
       "0        MI  3.099     3.424  10.61          9.58     Costco\n",
       "1        IN  3.249     9.362  30.42         27.61     Costco\n",
       "2        WI  3.089     9.895  30.57         27.60     Costco\n",
       "3        IA  3.070     9.772  30.00         30.00     Caseys\n",
       "4        MN  3.149     8.469  26.67         24.13     Costco"
      ]
     },
     "execution_count": 104,
     "metadata": {},
     "output_type": "execute_result"
    }
   ],
   "source": [
    "df_mydata['Total'] = df_mydata['Rate']*df_mydata['Quantity']\n",
    "df_mydata['Total'] = df_mydata['Total'].round(2)\n",
    "df_mydata.head()"
   ]
  },
  {
   "cell_type": "markdown",
   "metadata": {},
   "source": [
    "### Step 5: Group data\n",
    "\n",
    "Group data based on State Code:\n",
    "- Rate is the average of each group\n",
    "- Quantity is the sum on each group\n",
    "- Total is calculated based on updated Rate and Quantity \n",
    "- Drop last two columns 'RecieptTotal' and 'GasCompany'"
   ]
  },
  {
   "cell_type": "code",
   "execution_count": 116,
   "metadata": {},
   "outputs": [
    {
     "data": {
      "text/html": [
       "<div>\n",
       "<style scoped>\n",
       "    .dataframe tbody tr th:only-of-type {\n",
       "        vertical-align: middle;\n",
       "    }\n",
       "\n",
       "    .dataframe tbody tr th {\n",
       "        vertical-align: top;\n",
       "    }\n",
       "\n",
       "    .dataframe thead th {\n",
       "        text-align: right;\n",
       "    }\n",
       "</style>\n",
       "<table border=\"1\" class=\"dataframe\">\n",
       "  <thead>\n",
       "    <tr style=\"text-align: right;\">\n",
       "      <th></th>\n",
       "      <th>Rate</th>\n",
       "      <th>Quantity</th>\n",
       "      <th>Total</th>\n",
       "    </tr>\n",
       "    <tr>\n",
       "      <th>StateCode</th>\n",
       "      <th></th>\n",
       "      <th></th>\n",
       "      <th></th>\n",
       "    </tr>\n",
       "  </thead>\n",
       "  <tbody>\n",
       "    <tr>\n",
       "      <th>AL</th>\n",
       "      <td>2.999</td>\n",
       "      <td>9.552</td>\n",
       "      <td>28.65</td>\n",
       "    </tr>\n",
       "    <tr>\n",
       "      <th>CO</th>\n",
       "      <td>3.259</td>\n",
       "      <td>7.688</td>\n",
       "      <td>25.06</td>\n",
       "    </tr>\n",
       "    <tr>\n",
       "      <th>CT</th>\n",
       "      <td>3.499</td>\n",
       "      <td>9.622</td>\n",
       "      <td>33.67</td>\n",
       "    </tr>\n",
       "    <tr>\n",
       "      <th>DE</th>\n",
       "      <td>3.499</td>\n",
       "      <td>8.898</td>\n",
       "      <td>31.13</td>\n",
       "    </tr>\n",
       "    <tr>\n",
       "      <th>GA</th>\n",
       "      <td>3.099</td>\n",
       "      <td>7.864</td>\n",
       "      <td>24.37</td>\n",
       "    </tr>\n",
       "  </tbody>\n",
       "</table>\n",
       "</div>"
      ],
      "text/plain": [
       "            Rate  Quantity  Total\n",
       "StateCode                        \n",
       "AL         2.999     9.552  28.65\n",
       "CO         3.259     7.688  25.06\n",
       "CT         3.499     9.622  33.67\n",
       "DE         3.499     8.898  31.13\n",
       "GA         3.099     7.864  24.37"
      ]
     },
     "execution_count": 116,
     "metadata": {},
     "output_type": "execute_result"
    }
   ],
   "source": [
    "df_mydata = (df_mydata.groupby('StateCode').agg({'Rate':'mean', 'Quantity':'sum'}))\n",
    "\n",
    "df_mydata['Total'] = df_mydata['Rate']*df_mydata['Quantity']\n",
    "df_mydata['Total'] = df_mydata['Total'].round(2)\n",
    "df_mydata.head()"
   ]
  },
  {
   "cell_type": "markdown",
   "metadata": {},
   "source": [
    "## Data Preperation: Fuel data from GasBuddy\n",
    "\n",
    "Data from my trip doest not provide a whole picture on the gas prices over different states in the USA. I decided to scrape average gas price for all US state from the web. This data is scraped from https://www.gasbuddy.com/usa \n",
    "\n",
    "Extraction steps are provided in [Notebook](scrape_website.ipynb)\n",
    "\n",
    "### Step 1: Load scrapped data"
   ]
  },
  {
   "cell_type": "code",
   "execution_count": 126,
   "metadata": {},
   "outputs": [
    {
     "data": {
      "text/html": [
       "<div>\n",
       "<style scoped>\n",
       "    .dataframe tbody tr th:only-of-type {\n",
       "        vertical-align: middle;\n",
       "    }\n",
       "\n",
       "    .dataframe tbody tr th {\n",
       "        vertical-align: top;\n",
       "    }\n",
       "\n",
       "    .dataframe thead th {\n",
       "        text-align: right;\n",
       "    }\n",
       "</style>\n",
       "<table border=\"1\" class=\"dataframe\">\n",
       "  <thead>\n",
       "    <tr style=\"text-align: right;\">\n",
       "      <th></th>\n",
       "      <th>State</th>\n",
       "      <th>Rate</th>\n",
       "    </tr>\n",
       "  </thead>\n",
       "  <tbody>\n",
       "    <tr>\n",
       "      <th>0</th>\n",
       "      <td>Oklahoma</td>\n",
       "      <td>4.095</td>\n",
       "    </tr>\n",
       "    <tr>\n",
       "      <th>1</th>\n",
       "      <td>Georgia</td>\n",
       "      <td>4.110</td>\n",
       "    </tr>\n",
       "    <tr>\n",
       "      <th>2</th>\n",
       "      <td>Arkansas</td>\n",
       "      <td>4.114</td>\n",
       "    </tr>\n",
       "    <tr>\n",
       "      <th>3</th>\n",
       "      <td>Kansas</td>\n",
       "      <td>4.124</td>\n",
       "    </tr>\n",
       "    <tr>\n",
       "      <th>4</th>\n",
       "      <td>Mississippi</td>\n",
       "      <td>4.156</td>\n",
       "    </tr>\n",
       "  </tbody>\n",
       "</table>\n",
       "</div>"
      ],
      "text/plain": [
       "         State   Rate\n",
       "0     Oklahoma  4.095\n",
       "1      Georgia  4.110\n",
       "2     Arkansas  4.114\n",
       "3       Kansas  4.124\n",
       "4  Mississippi  4.156"
      ]
     },
     "execution_count": 126,
     "metadata": {},
     "output_type": "execute_result"
    }
   ],
   "source": [
    "df_fuel = pd.read_csv('data/state_gasrate.csv')\n",
    "df_fuel.head()"
   ]
  },
  {
   "cell_type": "markdown",
   "metadata": {},
   "source": [
    "Looks like the State column is the full state name. We want to have the state abbreviation, so that data is parallel to the one we are working with so far. For this purpose I have downloaded a state abbreviation CSV file. Let's use this file to refine our data into 'StateCode' and 'Rate' columns.\n",
    "\n",
    "### Step 2: Load state abbreviation key data"
   ]
  },
  {
   "cell_type": "code",
   "execution_count": 127,
   "metadata": {},
   "outputs": [
    {
     "data": {
      "text/html": [
       "<div>\n",
       "<style scoped>\n",
       "    .dataframe tbody tr th:only-of-type {\n",
       "        vertical-align: middle;\n",
       "    }\n",
       "\n",
       "    .dataframe tbody tr th {\n",
       "        vertical-align: top;\n",
       "    }\n",
       "\n",
       "    .dataframe thead th {\n",
       "        text-align: right;\n",
       "    }\n",
       "</style>\n",
       "<table border=\"1\" class=\"dataframe\">\n",
       "  <thead>\n",
       "    <tr style=\"text-align: right;\">\n",
       "      <th></th>\n",
       "      <th>State</th>\n",
       "      <th>Abbr</th>\n",
       "    </tr>\n",
       "  </thead>\n",
       "  <tbody>\n",
       "    <tr>\n",
       "      <th>0</th>\n",
       "      <td>Alabama</td>\n",
       "      <td>AL</td>\n",
       "    </tr>\n",
       "    <tr>\n",
       "      <th>1</th>\n",
       "      <td>Alaska</td>\n",
       "      <td>AK</td>\n",
       "    </tr>\n",
       "    <tr>\n",
       "      <th>2</th>\n",
       "      <td>Arizona</td>\n",
       "      <td>AZ</td>\n",
       "    </tr>\n",
       "    <tr>\n",
       "      <th>3</th>\n",
       "      <td>Arkansas</td>\n",
       "      <td>AR</td>\n",
       "    </tr>\n",
       "    <tr>\n",
       "      <th>4</th>\n",
       "      <td>California</td>\n",
       "      <td>CA</td>\n",
       "    </tr>\n",
       "  </tbody>\n",
       "</table>\n",
       "</div>"
      ],
      "text/plain": [
       "        State Abbr\n",
       "0     Alabama   AL\n",
       "1      Alaska   AK\n",
       "2     Arizona   AZ\n",
       "3    Arkansas   AR\n",
       "4  California   CA"
      ]
     },
     "execution_count": 127,
     "metadata": {},
     "output_type": "execute_result"
    }
   ],
   "source": [
    "df_key = pd.read_csv('data/state_code.csv')\n",
    "df_key.columns = ['State','Abbr']\n",
    "df_key.head()"
   ]
  },
  {
   "cell_type": "markdown",
   "metadata": {},
   "source": [
    "### Step 3: Merge both DataFrame"
   ]
  },
  {
   "cell_type": "code",
   "execution_count": 128,
   "metadata": {},
   "outputs": [],
   "source": [
    "df_fueldata = df_fuel.merge(df_key,how='inner',on='State')\n",
    "df_fueldata['StateCode'] = df_fueldata['Abbr']"
   ]
  },
  {
   "cell_type": "markdown",
   "metadata": {},
   "source": [
    "### Step 4: Keep 'StateCode' and 'Rate' columns"
   ]
  },
  {
   "cell_type": "code",
   "execution_count": 129,
   "metadata": {},
   "outputs": [
    {
     "data": {
      "text/html": [
       "<div>\n",
       "<style scoped>\n",
       "    .dataframe tbody tr th:only-of-type {\n",
       "        vertical-align: middle;\n",
       "    }\n",
       "\n",
       "    .dataframe tbody tr th {\n",
       "        vertical-align: top;\n",
       "    }\n",
       "\n",
       "    .dataframe thead th {\n",
       "        text-align: right;\n",
       "    }\n",
       "</style>\n",
       "<table border=\"1\" class=\"dataframe\">\n",
       "  <thead>\n",
       "    <tr style=\"text-align: right;\">\n",
       "      <th></th>\n",
       "      <th>Rate</th>\n",
       "    </tr>\n",
       "    <tr>\n",
       "      <th>StateCode</th>\n",
       "      <th></th>\n",
       "    </tr>\n",
       "  </thead>\n",
       "  <tbody>\n",
       "    <tr>\n",
       "      <th>OK</th>\n",
       "      <td>4.095</td>\n",
       "    </tr>\n",
       "    <tr>\n",
       "      <th>GA</th>\n",
       "      <td>4.110</td>\n",
       "    </tr>\n",
       "    <tr>\n",
       "      <th>AR</th>\n",
       "      <td>4.114</td>\n",
       "    </tr>\n",
       "    <tr>\n",
       "      <th>KS</th>\n",
       "      <td>4.124</td>\n",
       "    </tr>\n",
       "    <tr>\n",
       "      <th>MS</th>\n",
       "      <td>4.156</td>\n",
       "    </tr>\n",
       "  </tbody>\n",
       "</table>\n",
       "</div>"
      ],
      "text/plain": [
       "            Rate\n",
       "StateCode       \n",
       "OK         4.095\n",
       "GA         4.110\n",
       "AR         4.114\n",
       "KS         4.124\n",
       "MS         4.156"
      ]
     },
     "execution_count": 129,
     "metadata": {},
     "output_type": "execute_result"
    }
   ],
   "source": [
    "df_fueldata = df_fueldata[['StateCode','Rate']]\n",
    "df_fueldata.set_index('StateCode',inplace=True)\n",
    "df_fueldata.head()"
   ]
  },
  {
   "cell_type": "code",
   "execution_count": 130,
   "metadata": {},
   "outputs": [
    {
     "data": {
      "text/plain": [
       "<AxesSubplot:xlabel='StateCode'>"
      ]
     },
     "execution_count": 130,
     "metadata": {},
     "output_type": "execute_result"
    },
    {
     "data": {
      "image/png": "[encoded data removed]",
      "text/plain": [
       "<Figure size 1080x360 with 1 Axes>"
      ]
     },
     "metadata": {
      "needs_background": "light"
     },
     "output_type": "display_data"
    }
   ],
   "source": [
    "df_fueldata.sort_values('Rate', ascending = False)[['Rate']].plot.bar(figsize=(15, 5))"
   ]
  },
  {
   "cell_type": "markdown",
   "metadata": {},
   "source": [
    "### Step 5: Comparision between trip data and gasbuddy data"
   ]
  },
  {
   "cell_type": "code",
   "execution_count": 131,
   "metadata": {},
   "outputs": [],
   "source": [
    "df_inner = df_mydata.merge(df_fueldata,how='inner',on='StateCode')\n",
    "df_inner.drop(columns = ['Quantity','Total'],inplace=True)"
   ]
  },
  {
   "cell_type": "code",
   "execution_count": 132,
   "metadata": {},
   "outputs": [],
   "source": [
    "df_outer = df_mydata.merge(df_fueldata,how='outer',on='StateCode')\n",
    "df_outer.drop(columns = ['Quantity','Total'],inplace=True)"
   ]
  },
  {
   "cell_type": "code",
   "execution_count": 133,
   "metadata": {},
   "outputs": [
    {
     "data": {
      "text/plain": [
       "<AxesSubplot:xlabel='StateCode'>"
      ]
     },
     "execution_count": 133,
     "metadata": {},
     "output_type": "execute_result"
    },
    {
     "data": {
      "image/png": "[encoded data removed]",
      "text/plain": [
       "<Figure size 1080x360 with 1 Axes>"
      ]
     },
     "metadata": {
      "needs_background": "light"
     },
     "output_type": "display_data"
    }
   ],
   "source": [
    "df_inner.sort_values('Rate_y', ascending=False).plot.bar(figsize=(15, 5))"
   ]
  },
  {
   "cell_type": "code",
   "execution_count": 134,
   "metadata": {},
   "outputs": [
    {
     "data": {
      "text/plain": [
       "<AxesSubplot:xlabel='StateCode'>"
      ]
     },
     "execution_count": 134,
     "metadata": {},
     "output_type": "execute_result"
    },
    {
     "data": {
      "image/png": "[encoded data removed]",
      "text/plain": [
       "<Figure size 1080x360 with 1 Axes>"
      ]
     },
     "metadata": {
      "needs_background": "light"
     },
     "output_type": "display_data"
    }
   ],
   "source": [
    "df_outer.sort_values('Rate_y', ascending=False).plot.bar(figsize=(15, 5))"
   ]
  },
  {
   "cell_type": "code",
   "execution_count": 135,
   "metadata": {},
   "outputs": [
    {
     "data": {
      "text/html": [
       "<div>\n",
       "<style scoped>\n",
       "    .dataframe tbody tr th:only-of-type {\n",
       "        vertical-align: middle;\n",
       "    }\n",
       "\n",
       "    .dataframe tbody tr th {\n",
       "        vertical-align: top;\n",
       "    }\n",
       "\n",
       "    .dataframe thead th {\n",
       "        text-align: right;\n",
       "    }\n",
       "</style>\n",
       "<table border=\"1\" class=\"dataframe\">\n",
       "  <thead>\n",
       "    <tr style=\"text-align: right;\">\n",
       "      <th></th>\n",
       "      <th>Rate_x</th>\n",
       "      <th>Rate_y</th>\n",
       "    </tr>\n",
       "  </thead>\n",
       "  <tbody>\n",
       "    <tr>\n",
       "      <th>Rate_x</th>\n",
       "      <td>1.000000</td>\n",
       "      <td>0.781242</td>\n",
       "    </tr>\n",
       "    <tr>\n",
       "      <th>Rate_y</th>\n",
       "      <td>0.781242</td>\n",
       "      <td>1.000000</td>\n",
       "    </tr>\n",
       "  </tbody>\n",
       "</table>\n",
       "</div>"
      ],
      "text/plain": [
       "          Rate_x    Rate_y\n",
       "Rate_x  1.000000  0.781242\n",
       "Rate_y  0.781242  1.000000"
      ]
     },
     "execution_count": 135,
     "metadata": {},
     "output_type": "execute_result"
    }
   ],
   "source": [
    "df_outer.corr()"
   ]
  },
  {
   "cell_type": "markdown",
   "metadata": {},
   "source": [
    "## Data Preperation: Population, tax and Lat, Long data\n",
    "\n",
    "The last piece of the puzzle is to figure out weather predictors like population, area, location (lat, long), gas tax, have what amount of affect on gas prices. \n",
    "These predictors are collected from various sources on the internet, and the data extraction steps are explained below.\n",
    "\n",
    "### Step 1: Load population area data\n",
    "\n",
    "This data was scraped from https://www.findeasy.in/top-us-states-by-population-statewise-population/, and the steps to perform data extraction are provided in [Notebook](scrape_website.ipynb)"
   ]
  },
  {
   "cell_type": "code",
   "execution_count": 164,
   "metadata": {},
   "outputs": [
    {
     "data": {
      "text/html": [
       "<div>\n",
       "<style scoped>\n",
       "    .dataframe tbody tr th:only-of-type {\n",
       "        vertical-align: middle;\n",
       "    }\n",
       "\n",
       "    .dataframe tbody tr th {\n",
       "        vertical-align: top;\n",
       "    }\n",
       "\n",
       "    .dataframe thead th {\n",
       "        text-align: right;\n",
       "    }\n",
       "</style>\n",
       "<table border=\"1\" class=\"dataframe\">\n",
       "  <thead>\n",
       "    <tr style=\"text-align: right;\">\n",
       "      <th></th>\n",
       "      <th>State</th>\n",
       "      <th>Population</th>\n",
       "      <th>Area</th>\n",
       "    </tr>\n",
       "  </thead>\n",
       "  <tbody>\n",
       "    <tr>\n",
       "      <th>0</th>\n",
       "      <td>California</td>\n",
       "      <td>39538223</td>\n",
       "      <td>155779</td>\n",
       "    </tr>\n",
       "    <tr>\n",
       "      <th>1</th>\n",
       "      <td>Texas</td>\n",
       "      <td>29145505</td>\n",
       "      <td>261232</td>\n",
       "    </tr>\n",
       "    <tr>\n",
       "      <th>2</th>\n",
       "      <td>Florida</td>\n",
       "      <td>21538187</td>\n",
       "      <td>53625</td>\n",
       "    </tr>\n",
       "    <tr>\n",
       "      <th>3</th>\n",
       "      <td>New York</td>\n",
       "      <td>20201249</td>\n",
       "      <td>47126</td>\n",
       "    </tr>\n",
       "    <tr>\n",
       "      <th>4</th>\n",
       "      <td>Pennsylvania</td>\n",
       "      <td>13002700</td>\n",
       "      <td>44743</td>\n",
       "    </tr>\n",
       "  </tbody>\n",
       "</table>\n",
       "</div>"
      ],
      "text/plain": [
       "          State  Population    Area\n",
       "0    California    39538223  155779\n",
       "1         Texas    29145505  261232\n",
       "2       Florida    21538187   53625\n",
       "3      New York    20201249   47126\n",
       "4  Pennsylvania    13002700   44743"
      ]
     },
     "execution_count": 164,
     "metadata": {},
     "output_type": "execute_result"
    }
   ],
   "source": [
    "df_pop_area = pd.read_csv('data/state_pop_area.csv',thousands=',')\n",
    "df_pop_area['State'] = df_pop_area['State'].str.replace(\" \\(state\\)\",\"\")\n",
    "df_pop_area =  df_pop_area[['State','Population','Area']]\n",
    "df_pop_area.head()"
   ]
  },
  {
   "cell_type": "markdown",
   "metadata": {},
   "source": [
    "### Step 2: Load lat, long data\n",
    "\n",
    "This data is downloaded from kaggle https://www.kaggle.com/datasets/washimahmed/usa-latlong-for-state-abbreviations?resource=download\n"
   ]
  },
  {
   "cell_type": "code",
   "execution_count": 165,
   "metadata": {},
   "outputs": [
    {
     "data": {
      "text/html": [
       "<div>\n",
       "<style scoped>\n",
       "    .dataframe tbody tr th:only-of-type {\n",
       "        vertical-align: middle;\n",
       "    }\n",
       "\n",
       "    .dataframe tbody tr th {\n",
       "        vertical-align: top;\n",
       "    }\n",
       "\n",
       "    .dataframe thead th {\n",
       "        text-align: right;\n",
       "    }\n",
       "</style>\n",
       "<table border=\"1\" class=\"dataframe\">\n",
       "  <thead>\n",
       "    <tr style=\"text-align: right;\">\n",
       "      <th></th>\n",
       "      <th>Abbr</th>\n",
       "      <th>Latitude</th>\n",
       "      <th>Longitude</th>\n",
       "      <th>State</th>\n",
       "    </tr>\n",
       "  </thead>\n",
       "  <tbody>\n",
       "    <tr>\n",
       "      <th>0</th>\n",
       "      <td>AL</td>\n",
       "      <td>32.601011</td>\n",
       "      <td>-86.680736</td>\n",
       "      <td>Alabama</td>\n",
       "    </tr>\n",
       "    <tr>\n",
       "      <th>1</th>\n",
       "      <td>AK</td>\n",
       "      <td>61.302501</td>\n",
       "      <td>-158.775020</td>\n",
       "      <td>Alaska</td>\n",
       "    </tr>\n",
       "    <tr>\n",
       "      <th>2</th>\n",
       "      <td>AZ</td>\n",
       "      <td>34.168219</td>\n",
       "      <td>-111.930907</td>\n",
       "      <td>Arizona</td>\n",
       "    </tr>\n",
       "    <tr>\n",
       "      <th>3</th>\n",
       "      <td>AR</td>\n",
       "      <td>34.751928</td>\n",
       "      <td>-92.131378</td>\n",
       "      <td>Arkansas</td>\n",
       "    </tr>\n",
       "    <tr>\n",
       "      <th>4</th>\n",
       "      <td>CA</td>\n",
       "      <td>37.271875</td>\n",
       "      <td>-119.270415</td>\n",
       "      <td>California</td>\n",
       "    </tr>\n",
       "  </tbody>\n",
       "</table>\n",
       "</div>"
      ],
      "text/plain": [
       "  Abbr   Latitude   Longitude       State\n",
       "0   AL  32.601011  -86.680736     Alabama\n",
       "1   AK  61.302501 -158.775020      Alaska\n",
       "2   AZ  34.168219 -111.930907     Arizona\n",
       "3   AR  34.751928  -92.131378    Arkansas\n",
       "4   CA  37.271875 -119.270415  California"
      ]
     },
     "execution_count": 165,
     "metadata": {},
     "output_type": "execute_result"
    }
   ],
   "source": [
    "df_geo = pd.read_csv('data/state_latlong.csv')\n",
    "df_geo.columns = ['Abbr', 'Latitude', 'Longitude', 'State']\n",
    "df_geo.head()"
   ]
  },
  {
   "cell_type": "markdown",
   "metadata": {},
   "source": [
    "### Step 3: Load gas tax data\n",
    "\n",
    "This dataset is extracted from https://igentax.com/gas-tax-state/#table \n",
    "\n",
    "Extraction steps are provided in [Notebook](scrape_website.ipynb)"
   ]
  },
  {
   "cell_type": "code",
   "execution_count": 166,
   "metadata": {},
   "outputs": [
    {
     "data": {
      "text/html": [
       "<div>\n",
       "<style scoped>\n",
       "    .dataframe tbody tr th:only-of-type {\n",
       "        vertical-align: middle;\n",
       "    }\n",
       "\n",
       "    .dataframe tbody tr th {\n",
       "        vertical-align: top;\n",
       "    }\n",
       "\n",
       "    .dataframe thead th {\n",
       "        text-align: right;\n",
       "    }\n",
       "</style>\n",
       "<table border=\"1\" class=\"dataframe\">\n",
       "  <thead>\n",
       "    <tr style=\"text-align: right;\">\n",
       "      <th></th>\n",
       "      <th>State</th>\n",
       "      <th>Gas_Tax</th>\n",
       "    </tr>\n",
       "  </thead>\n",
       "  <tbody>\n",
       "    <tr>\n",
       "      <th>0</th>\n",
       "      <td>Alabama</td>\n",
       "      <td>0.2800</td>\n",
       "    </tr>\n",
       "    <tr>\n",
       "      <th>1</th>\n",
       "      <td>Alaska</td>\n",
       "      <td>0.0895</td>\n",
       "    </tr>\n",
       "    <tr>\n",
       "      <th>2</th>\n",
       "      <td>Arizona</td>\n",
       "      <td>0.1800</td>\n",
       "    </tr>\n",
       "    <tr>\n",
       "      <th>3</th>\n",
       "      <td>Arkansas</td>\n",
       "      <td>0.2450</td>\n",
       "    </tr>\n",
       "    <tr>\n",
       "      <th>4</th>\n",
       "      <td>California</td>\n",
       "      <td>0.5110</td>\n",
       "    </tr>\n",
       "  </tbody>\n",
       "</table>\n",
       "</div>"
      ],
      "text/plain": [
       "        State  Gas_Tax\n",
       "0     Alabama   0.2800\n",
       "1      Alaska   0.0895\n",
       "2     Arizona   0.1800\n",
       "3    Arkansas   0.2450\n",
       "4  California   0.5110"
      ]
     },
     "execution_count": 166,
     "metadata": {},
     "output_type": "execute_result"
    }
   ],
   "source": [
    "df_tax = pd.read_csv('data/state_gastax.csv')\n",
    "df_tax = df_tax[['State', 'Gas_Tax']]\n",
    "df_tax.head()"
   ]
  },
  {
   "cell_type": "markdown",
   "metadata": {},
   "source": [
    "### Step 4: Merge data\n"
   ]
  },
  {
   "cell_type": "code",
   "execution_count": 167,
   "metadata": {},
   "outputs": [
    {
     "data": {
      "text/html": [
       "<div>\n",
       "<style scoped>\n",
       "    .dataframe tbody tr th:only-of-type {\n",
       "        vertical-align: middle;\n",
       "    }\n",
       "\n",
       "    .dataframe tbody tr th {\n",
       "        vertical-align: top;\n",
       "    }\n",
       "\n",
       "    .dataframe thead th {\n",
       "        text-align: right;\n",
       "    }\n",
       "</style>\n",
       "<table border=\"1\" class=\"dataframe\">\n",
       "  <thead>\n",
       "    <tr style=\"text-align: right;\">\n",
       "      <th></th>\n",
       "      <th>State</th>\n",
       "      <th>Population</th>\n",
       "      <th>Area</th>\n",
       "      <th>StateCode</th>\n",
       "      <th>Latitude</th>\n",
       "      <th>Longitude</th>\n",
       "      <th>Gas_Tax</th>\n",
       "      <th>Rate</th>\n",
       "      <th>pDensity</th>\n",
       "    </tr>\n",
       "  </thead>\n",
       "  <tbody>\n",
       "    <tr>\n",
       "      <th>0</th>\n",
       "      <td>California</td>\n",
       "      <td>39538223</td>\n",
       "      <td>155779</td>\n",
       "      <td>CA</td>\n",
       "      <td>37.271875</td>\n",
       "      <td>-119.270415</td>\n",
       "      <td>0.5110</td>\n",
       "      <td>6.118</td>\n",
       "      <td>253.809711</td>\n",
       "    </tr>\n",
       "    <tr>\n",
       "      <th>1</th>\n",
       "      <td>Texas</td>\n",
       "      <td>29145505</td>\n",
       "      <td>261232</td>\n",
       "      <td>TX</td>\n",
       "      <td>31.169336</td>\n",
       "      <td>-100.076842</td>\n",
       "      <td>0.2000</td>\n",
       "      <td>4.228</td>\n",
       "      <td>111.569429</td>\n",
       "    </tr>\n",
       "    <tr>\n",
       "      <th>2</th>\n",
       "      <td>Florida</td>\n",
       "      <td>21538187</td>\n",
       "      <td>53625</td>\n",
       "      <td>FL</td>\n",
       "      <td>27.975728</td>\n",
       "      <td>-83.833017</td>\n",
       "      <td>0.1900</td>\n",
       "      <td>4.560</td>\n",
       "      <td>401.644513</td>\n",
       "    </tr>\n",
       "    <tr>\n",
       "      <th>3</th>\n",
       "      <td>New York</td>\n",
       "      <td>20201249</td>\n",
       "      <td>47126</td>\n",
       "      <td>NY</td>\n",
       "      <td>40.705626</td>\n",
       "      <td>-73.979680</td>\n",
       "      <td>0.2535</td>\n",
       "      <td>4.901</td>\n",
       "      <td>428.664623</td>\n",
       "    </tr>\n",
       "    <tr>\n",
       "      <th>4</th>\n",
       "      <td>Pennsylvania</td>\n",
       "      <td>13002700</td>\n",
       "      <td>44743</td>\n",
       "      <td>PA</td>\n",
       "      <td>40.994593</td>\n",
       "      <td>-77.604698</td>\n",
       "      <td>0.5760</td>\n",
       "      <td>4.750</td>\n",
       "      <td>290.608587</td>\n",
       "    </tr>\n",
       "  </tbody>\n",
       "</table>\n",
       "</div>"
      ],
      "text/plain": [
       "          State  Population    Area StateCode   Latitude   Longitude  Gas_Tax  \\\n",
       "0    California    39538223  155779        CA  37.271875 -119.270415   0.5110   \n",
       "1         Texas    29145505  261232        TX  31.169336 -100.076842   0.2000   \n",
       "2       Florida    21538187   53625        FL  27.975728  -83.833017   0.1900   \n",
       "3      New York    20201249   47126        NY  40.705626  -73.979680   0.2535   \n",
       "4  Pennsylvania    13002700   44743        PA  40.994593  -77.604698   0.5760   \n",
       "\n",
       "    Rate    pDensity  \n",
       "0  6.118  253.809711  \n",
       "1  4.228  111.569429  \n",
       "2  4.560  401.644513  \n",
       "3  4.901  428.664623  \n",
       "4  4.750  290.608587  "
      ]
     },
     "execution_count": 167,
     "metadata": {},
     "output_type": "execute_result"
    }
   ],
   "source": [
    "df = df_pop_area.merge(df_geo,how='inner',on='State')\n",
    "df = df.merge(df_tax,how='inner',on='State')\n",
    "df.columns = ['State','Population','Area','StateCode','Latitude','Longitude','Gas_Tax']\n",
    "df = df.merge(df_fueldata,how='inner',on='StateCode')\n",
    "df['Population'] = pd.to_numeric(df['Population'])\n",
    "df['Area'] = pd.to_numeric(df['Area'])\n",
    "df['pDensity'] = df['Population']/df['Area']\n",
    "df.head()"
   ]
  },
  {
   "cell_type": "code",
   "execution_count": 171,
   "metadata": {
    "scrolled": true
   },
   "outputs": [
    {
     "data": {
      "text/html": [
       "<div>\n",
       "<style scoped>\n",
       "    .dataframe tbody tr th:only-of-type {\n",
       "        vertical-align: middle;\n",
       "    }\n",
       "\n",
       "    .dataframe tbody tr th {\n",
       "        vertical-align: top;\n",
       "    }\n",
       "\n",
       "    .dataframe thead th {\n",
       "        text-align: right;\n",
       "    }\n",
       "</style>\n",
       "<table border=\"1\" class=\"dataframe\">\n",
       "  <thead>\n",
       "    <tr style=\"text-align: right;\">\n",
       "      <th></th>\n",
       "      <th>Latitude</th>\n",
       "      <th>Longitude</th>\n",
       "      <th>Gas_Tax</th>\n",
       "      <th>pDensity</th>\n",
       "      <th>Rate</th>\n",
       "    </tr>\n",
       "    <tr>\n",
       "      <th>StateCode</th>\n",
       "      <th></th>\n",
       "      <th></th>\n",
       "      <th></th>\n",
       "      <th></th>\n",
       "      <th></th>\n",
       "    </tr>\n",
       "  </thead>\n",
       "  <tbody>\n",
       "    <tr>\n",
       "      <th>CA</th>\n",
       "      <td>37.271875</td>\n",
       "      <td>-119.270415</td>\n",
       "      <td>0.5110</td>\n",
       "      <td>253.809711</td>\n",
       "      <td>6.118</td>\n",
       "    </tr>\n",
       "    <tr>\n",
       "      <th>TX</th>\n",
       "      <td>31.169336</td>\n",
       "      <td>-100.076842</td>\n",
       "      <td>0.2000</td>\n",
       "      <td>111.569429</td>\n",
       "      <td>4.228</td>\n",
       "    </tr>\n",
       "    <tr>\n",
       "      <th>FL</th>\n",
       "      <td>27.975728</td>\n",
       "      <td>-83.833017</td>\n",
       "      <td>0.1900</td>\n",
       "      <td>401.644513</td>\n",
       "      <td>4.560</td>\n",
       "    </tr>\n",
       "    <tr>\n",
       "      <th>NY</th>\n",
       "      <td>40.705626</td>\n",
       "      <td>-73.979680</td>\n",
       "      <td>0.2535</td>\n",
       "      <td>428.664623</td>\n",
       "      <td>4.901</td>\n",
       "    </tr>\n",
       "    <tr>\n",
       "      <th>PA</th>\n",
       "      <td>40.994593</td>\n",
       "      <td>-77.604698</td>\n",
       "      <td>0.5760</td>\n",
       "      <td>290.608587</td>\n",
       "      <td>4.750</td>\n",
       "    </tr>\n",
       "  </tbody>\n",
       "</table>\n",
       "</div>"
      ],
      "text/plain": [
       "            Latitude   Longitude  Gas_Tax    pDensity   Rate\n",
       "StateCode                                                   \n",
       "CA         37.271875 -119.270415   0.5110  253.809711  6.118\n",
       "TX         31.169336 -100.076842   0.2000  111.569429  4.228\n",
       "FL         27.975728  -83.833017   0.1900  401.644513  4.560\n",
       "NY         40.705626  -73.979680   0.2535  428.664623  4.901\n",
       "PA         40.994593  -77.604698   0.5760  290.608587  4.750"
      ]
     },
     "execution_count": 171,
     "metadata": {},
     "output_type": "execute_result"
    }
   ],
   "source": [
    "df = df[['StateCode','Latitude','Longitude','Gas_Tax','pDensity','Rate']]\n",
    "df.set_index('StateCode',inplace=True)\n",
    "\n",
    "df.head()"
   ]
  },
  {
   "cell_type": "code",
   "execution_count": 175,
   "metadata": {
    "scrolled": true
   },
   "outputs": [
    {
     "data": {
      "text/plain": [
       "<AxesSubplot:xlabel='StateCode'>"
      ]
     },
     "execution_count": 175,
     "metadata": {},
     "output_type": "execute_result"
    },
    {
     "data": {
      "image/png": "[encoded data removed]",
      "text/plain": [
       "<Figure size 1080x360 with 1 Axes>"
      ]
     },
     "metadata": {
      "needs_background": "light"
     },
     "output_type": "display_data"
    }
   ],
   "source": [
    "df.sort_values('Gas_Tax', ascending=False)[['Gas_Tax']].plot.bar(figsize=(15, 5))"
   ]
  },
  {
   "cell_type": "code",
   "execution_count": 176,
   "metadata": {},
   "outputs": [
    {
     "data": {
      "text/plain": [
       "<AxesSubplot:xlabel='StateCode'>"
      ]
     },
     "execution_count": 176,
     "metadata": {},
     "output_type": "execute_result"
    },
    {
     "data": {
      "image/png": "[encoded data removed]",
      "text/plain": [
       "<Figure size 1080x360 with 1 Axes>"
      ]
     },
     "metadata": {
      "needs_background": "light"
     },
     "output_type": "display_data"
    }
   ],
   "source": [
    "df.sort_values('pDensity', ascending=False)[['pDensity']].plot.bar(figsize=(15, 5))"
   ]
  },
  {
   "cell_type": "code",
   "execution_count": 177,
   "metadata": {
    "scrolled": true
   },
   "outputs": [
    {
     "data": {
      "text/plain": [
       "<AxesSubplot:xlabel='StateCode'>"
      ]
     },
     "execution_count": 177,
     "metadata": {},
     "output_type": "execute_result"
    },
    {
     "data": {
      "image/png": "[encoded data removed]",
      "text/plain": [
       "<Figure size 1080x360 with 1 Axes>"
      ]
     },
     "metadata": {
      "needs_background": "light"
     },
     "output_type": "display_data"
    }
   ],
   "source": [
    "df.sort_values('Rate', ascending=False)[['Rate']].plot.bar(figsize=(15, 5))"
   ]
  },
  {
   "cell_type": "code",
   "execution_count": null,
   "metadata": {},
   "outputs": [],
   "source": []
  },
  {
   "cell_type": "code",
   "execution_count": null,
   "metadata": {},
   "outputs": [],
   "source": []
  },
  {
   "cell_type": "code",
   "execution_count": null,
   "metadata": {},
   "outputs": [],
   "source": []
  },
  {
   "cell_type": "code",
   "execution_count": null,
   "metadata": {},
   "outputs": [],
   "source": []
  },
  {
   "cell_type": "markdown",
   "metadata": {},
   "source": [
    "## Data analysis\n",
    "\n",
    "Now, we can try to answer some of the questions based on this cleaned data. \n",
    "\n",
    "### Q1. Which state has the cheapest and most expensive gasoline rate?"
   ]
  },
  {
   "cell_type": "code",
   "execution_count": 179,
   "metadata": {
    "scrolled": false
   },
   "outputs": [
    {
     "data": {
      "text/plain": [
       "<AxesSubplot:xlabel='StateCode'>"
      ]
     },
     "execution_count": 179,
     "metadata": {},
     "output_type": "execute_result"
    },
    {
     "data": {
      "image/png": "[encoded data removed]",
      "text/plain": [
       "<Figure size 1080x360 with 1 Axes>"
      ]
     },
     "metadata": {
      "needs_background": "light"
     },
     "output_type": "display_data"
    }
   ],
   "source": [
    "df.sort_values('Rate', ascending=False)[['Rate']].plot.bar(figsize=(15, 5))\n"
   ]
  },
  {
   "cell_type": "markdown",
   "metadata": {},
   "source": [
    "From the graph above, one may conclude Gasoline rates are highest in California (CA) and lowest in Oklahoma (OK)"
   ]
  },
  {
   "cell_type": "markdown",
   "metadata": {},
   "source": [
    "### Q2. What decides the gas price?\n",
    "\n",
    "### Q3. How much does gas tax affect gas price?\n",
    "\n",
    "### Q4. How much does map location affect gas price?\n",
    "\n",
    "### Q5. How much does population density affect gas price?\n",
    "\n"
   ]
  },
  {
   "cell_type": "code",
   "execution_count": 180,
   "metadata": {},
   "outputs": [
    {
     "data": {
      "image/png": "[encoded data removed]",
      "text/plain": [
       "<Figure size 432x288 with 2 Axes>"
      ]
     },
     "metadata": {
      "needs_background": "light"
     },
     "output_type": "display_data"
    }
   ],
   "source": [
    "import seaborn as sns\n",
    "\n",
    "import matplotlib.pyplot as plt\n",
    "\n",
    "hm = sns.heatmap(df.corr(), annot = True)"
   ]
  },
  {
   "cell_type": "markdown",
   "metadata": {},
   "source": [
    "The strongest predictor of average gas price is 'Gas Tax' and 'Longitude'. This means a state with lower tax in southern region will have the lowest gas price. Population density also plays a little role in estimating the gas price. Population density might not be the predictor that directly affects gas prices. There are other predicitors that affect population density such as state economy, infrastructure, jobs, etc, which in turn affect the gas price. A detailed analysis of such predictor could be a topic for another article. "
   ]
  },
  {
   "cell_type": "markdown",
   "metadata": {},
   "source": [
    "### Q6. Can we predict the gas price of the missing states using a ML model?\n",
    "\n",
    "Since we do not have a complete dataset of all USA states, lets download one with the addition of latitude and latitude. Lat and Long will be used as the predictor variables and rate would an estimate. This can be achieved by merging two datasets, a) US states with lat and long, and b) Current gasoline rate from AAA website. I will alos download the gasoline data for dec 2021 to compare the estimated rate with actual rate. Topic for next article. "
   ]
  },
  {
   "cell_type": "code",
   "execution_count": null,
   "metadata": {},
   "outputs": [],
   "source": []
  }
 ],
 "metadata": {
  "kernelspec": {
   "display_name": "Python 3",
   "language": "python",
   "name": "python3"
  },
  "language_info": {
   "codemirror_mode": {
    "name": "ipython",
    "version": 3
   },
   "file_extension": ".py",
   "mimetype": "text/x-python",
   "name": "python",
   "nbconvert_exporter": "python",
   "pygments_lexer": "ipython3",
   "version": "3.7.6"
  }
 },
 "nbformat": 4,
 "nbformat_minor": 4
}
